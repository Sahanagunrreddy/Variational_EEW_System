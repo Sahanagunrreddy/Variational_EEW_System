{
  "nbformat": 4,
  "nbformat_minor": 0,
  "metadata": {
    "colab": {
      "provenance": []
    },
    "kernelspec": {
      "name": "python3",
      "display_name": "Python 3"
    },
    "language_info": {
      "name": "python"
    }
  },
  "cells": [
    {
      "cell_type": "code",
      "execution_count": null,
      "metadata": {
        "id": "pljQ8DrwJd7c"
      },
      "outputs": [],
      "source": [
        "import numpy as np\n",
        "import pandas as pd\n",
        "import matplotlib.pyplot as plt\n",
        "from sklearn.model_selection import train_test_split\n",
        "from sklearn.preprocessing import MinMaxScaler,StandardScaler\n",
        "from keras.layers import Input, Dense, Lambda\n",
        "from keras.models import Model\n",
        "from keras import backend as K\n",
        "from keras.losses import mse\n",
        "from keras.optimizers import Adam\n",
        "import tensorflow as tf\n",
        "from keras.callbacks import ModelCheckpoint\n",
        "from keras.models import load_model"
      ]
    },
    {
      "cell_type": "code",
      "source": [
        "from google.colab import drive\n",
        "drive.mount('/content/drive')"
      ],
      "metadata": {
        "colab": {
          "base_uri": "https://localhost:8080/"
        },
        "id": "FdryUJGFJfvh",
        "outputId": "e7a6fabe-dd4c-471e-da20-0ce6a064abcb"
      },
      "execution_count": null,
      "outputs": [
        {
          "output_type": "stream",
          "name": "stdout",
          "text": [
            "Drive already mounted at /content/drive; to attempt to forcibly remount, call drive.mount(\"/content/drive\", force_remount=True).\n"
          ]
        }
      ]
    },
    {
      "cell_type": "code",
      "source": [
        "newDf = pd.read_csv('/content/drive/MyDrive/SDA Codes/CVAE_final/new_final_data.csv',low_memory=False)"
      ],
      "metadata": {
        "id": "iWkTvg9AJgvO"
      },
      "execution_count": null,
      "outputs": []
    },
    {
      "cell_type": "code",
      "source": [
        "newDf = newDf.iloc[:, 1:]\n",
        "newDf.rename(columns={'Unnamed: 0': 'EQID'}, inplace=True)"
      ],
      "metadata": {
        "id": "9Qq0LF42JiU-"
      },
      "execution_count": null,
      "outputs": []
    },
    {
      "cell_type": "code",
      "source": [
        "# Assuming df is your DataFrame\n",
        "newDf = newDf.apply(pd.to_numeric, errors='coerce')\n",
        "newDf = newDf.astype(float)"
      ],
      "metadata": {
        "id": "vnmIZjNnJuS3"
      },
      "execution_count": null,
      "outputs": []
    },
    {
      "cell_type": "code",
      "source": [
        "from sklearn.model_selection import train_test_split\n",
        "from sklearn.preprocessing import MinMaxScaler,StandardScaler\n",
        "X = newDf[['PGA','PGD','Fp','Tsig','Ia','CAV','vs30','dir']]\n",
        "column_names = X.columns\n",
        "X = X[column_names].values\n",
        "y = newDf[['EQID','0.01', '0.015', '0.02', '0.03', '0.04', '0.05', '0.06', '0.075',\n",
        "       '0.09', '0.1', '0.15', '0.2', '0.3', '0.4', '0.5', '0.6', '0.7', '0.75',\n",
        "       '0.8', '0.9', '1', '1.2', '1.5', '2', '2.5', '3', '4']]\n",
        "column_names = y.columns\n",
        "y = y[column_names].values\n",
        "\n",
        "# Normalize the data\n",
        "scaler = StandardScaler()\n",
        "X_normalized = scaler.fit_transform(X)\n",
        "# Split the data into training and testing sets\n",
        "X_train, X_test, Y_train, Y_test= train_test_split(X_normalized, y ,test_size=0.2, random_state=42)\n",
        "y_train = np.log(Y_train[:, 1:])\n",
        "y_test = np.log(Y_test[:, 1:])"
      ],
      "metadata": {
        "id": "saeYym27Jwg8"
      },
      "execution_count": null,
      "outputs": []
    },
    {
      "cell_type": "code",
      "source": [
        "import numpy as np\n",
        "from keras.models import load_model\n",
        "\n",
        "# Load the models - CONDITIONAL MODEL (WITH MAPPING LAYERS) AND DECODER\n",
        "encoder = load_model('.../conditional_model.h5')\n",
        "decoder = load_model('.../decoder_model.h5')\n",
        "\n",
        "PGA = float(input('Enter $PGA$: '))\n",
        "PGD = float(input('Enter $PGD$: '))\n",
        "Fp = float(input('Enter $Fp$: '))\n",
        "Tsig = float(input('Enter $Tsig$: '))\n",
        "Ia = float(input('Enter $Ia$: '))\n",
        "CAV = float(input('Enter $CAV$: '))\n",
        "vs30 = float(input('Enter $S_c$ (1/2/3) -> (A/B/C): '))\n",
        "dir = float(input('Enter $dir$ (0/1) -> (h/v): '))\n",
        "manual_input = np.array([[PGA,PGD,Fp,Tsig,Ia,CAV,vs30,dir]])\n",
        "\n",
        "manual_input_reshaped = manual_input.reshape(1, -1)\n",
        "manual_input_reshaped = scaler.transform(manual_input_reshaped)\n",
        "\n",
        "# Encode the manual input using the encoder (conditional_model.h5)\n",
        "latent_variables = encoder.predict(manual_input_reshaped)\n",
        "\n",
        "# Print the manual input and check the shape of the latent variables - NOT MANDATORY\n",
        "print('Manual Input:', manual_input)\n",
        "print(\"Latent Variables Shape:\", latent_variables)\n",
        "\n",
        "# Decode the latent variables using the decoder (decoder_model.h5)\n",
        "decoded_output = decoder.predict(latent_variables)"
      ],
      "metadata": {
        "colab": {
          "base_uri": "https://localhost:8080/"
        },
        "id": "Gb6yahiYP_mf",
        "outputId": "023fbcf1-58ab-4d01-bbb0-8f13db4b8fa3"
      },
      "execution_count": null,
      "outputs": [
        {
          "output_type": "stream",
          "name": "stderr",
          "text": [
            "WARNING:tensorflow:No training configuration found in the save file, so the model was *not* compiled. Compile it manually.\n"
          ]
        },
        {
          "output_type": "stream",
          "name": "stdout",
          "text": [
            "Enter $PGA$: 0.08\n",
            "Enter $PGD$: 0.3\n",
            "Enter $Fp$: 5.85\n",
            "Enter $Tsig$: 2.04\n",
            "Enter $Ia$: 0.97\n",
            "Enter $CAV$: 26.4\n",
            "Enter $S_c$ (1/2/3) -> (A/B/C): 1\n",
            "Enter $dir$ (0/1) -> (h/v): 0\n",
            "1/1 [==============================] - 0s 60ms/step\n",
            "Manual Input: [[ 0.08  0.3   5.85  2.04  0.97 26.4   1.    0.  ]]\n",
            "Latent Variables Shape: [[-3.232102  -2.0404778  4.0545278]]\n",
            "1/1 [==============================] - 0s 77ms/step\n"
          ]
        }
      ]
    },
    {
      "cell_type": "code",
      "source": [
        "plt.figure(figsize=(12, 6))\n",
        "plt.plot(np.exp(decoded_output[0]))\n",
        "plt.xlabel('Time Step')\n",
        "plt.ylabel('Value')\n",
        "plt.title('Original vs Decoded y_train')\n",
        "plt.legend()\n",
        "plt.grid(True)\n",
        "plt.show()"
      ],
      "metadata": {
        "colab": {
          "base_uri": "https://localhost:8080/",
          "height": 582
        },
        "id": "AZmI4mkBYXye",
        "outputId": "22f36e7d-fcf4-493f-b9bd-8e48e072deff"
      },
      "execution_count": null,
      "outputs": [
        {
          "output_type": "stream",
          "name": "stderr",
          "text": [
            "WARNING:matplotlib.legend:No artists with labels found to put in legend.  Note that artists whose label start with an underscore are ignored when legend() is called with no argument.\n"
          ]
        },
        {
          "output_type": "display_data",
          "data": {
            "text/plain": [
              "<Figure size 1200x600 with 1 Axes>"
            ],
            "image/png": "[encoded data removed]"
          },
          "metadata": {}
        }
      ]
    },
    {
      "cell_type": "markdown",
      "source": [
        "# CONCATENATE - Creating a standalone model"
      ],
      "metadata": {
        "id": "GeTI5qHyf8Wj"
      }
    },
    {
      "cell_type": "code",
      "source": [
        "from keras.models import load_model, Model\n",
        "\n",
        "# Load the encoder and decoder models\n",
        "encoder = load_model('.../conditional_model.h5')\n",
        "decoder = load_model('.../decoder_model.h5')\n",
        "\n",
        "# Get the output of the encoder model\n",
        "encoder_output = encoder.layers[-1].output\n",
        "\n",
        "# Set the decoder model's input to be the output of the encoder\n",
        "decoder_input = encoder_output\n",
        "decoder_output = decoder(decoder_input)\n",
        "\"\"\"\n",
        "ACTUAL COMPILATION STARTS HERE\n",
        "\"\"\"\n",
        "\n",
        "# Create the concatenated model\n",
        "autoencoder = Model(inputs=encoder.input, outputs=decoder_output)\n",
        "\n",
        "# Compile the concatenated model (optional, if you want to use it for further training)\n",
        "autoencoder.compile(optimizer='adam', loss='mse')  # Adjust optimizer and loss as needed\n",
        "\n",
        "# Summary of the concatenated model\n",
        "autoencoder.summary()\n"
      ],
      "metadata": {
        "colab": {
          "base_uri": "https://localhost:8080/"
        },
        "id": "evo9e5pyZKj9",
        "outputId": "fb27b56f-ae5f-4daa-b062-113620b1f8e9"
      },
      "execution_count": null,
      "outputs": [
        {
          "output_type": "stream",
          "name": "stderr",
          "text": [
            "WARNING:tensorflow:No training configuration found in the save file, so the model was *not* compiled. Compile it manually.\n"
          ]
        },
        {
          "output_type": "stream",
          "name": "stdout",
          "text": [
            "Model: \"model\"\n",
            "_________________________________________________________________\n",
            " Layer (type)                Output Shape              Param #   \n",
            "=================================================================\n",
            " dense_109_input (InputLaye  [(None, 8)]               0         \n",
            " r)                                                              \n",
            "                                                                 \n",
            " dense_109 (Dense)           (None, 8)                 72        \n",
            "                                                                 \n",
            " dense_110 (Dense)           (None, 4)                 36        \n",
            "                                                                 \n",
            " dense_111 (Dense)           (None, 3)                 15        \n",
            "                                                                 \n",
            " model_19 (Functional)       (None, 27)                831       \n",
            "                                                                 \n",
            "=================================================================\n",
            "Total params: 954 (3.73 KB)\n",
            "Trainable params: 954 (3.73 KB)\n",
            "Non-trainable params: 0 (0.00 Byte)\n",
            "_________________________________________________________________\n"
          ]
        }
      ]
    },
    {
      "cell_type": "code",
      "source": [
        "from keras.models import load_model, Model, save_model\n",
        "\n",
        "# Assuming you have already concatenated and compiled the model as 'autoencoder'\n",
        "\n",
        "# Define the path where you want to save the model\n",
        "save_path = '.../FINAL_CVAE_MODEL.h5'\n",
        "\n",
        "# Save the model\n",
        "save_model(autoencoder, save_path)\n",
        "\n",
        "print(f\"Concatenated model saved at {save_path}\")"
      ],
      "metadata": {
        "colab": {
          "base_uri": "https://localhost:8080/"
        },
        "id": "icNl5MmGfwYQ",
        "outputId": "1552f755-ac6a-42f4-8081-693cf7f0d3e7"
      },
      "execution_count": null,
      "outputs": [
        {
          "output_type": "stream",
          "name": "stdout",
          "text": [
            "Concatenated model saved at /content/drive/MyDrive/SDA Codes/CVAE_final/final_model/FINAL_CVAE_MODEL.h5\n"
          ]
        },
        {
          "output_type": "stream",
          "name": "stderr",
          "text": [
            "<ipython-input-32-e96c46ec3da3>:9: UserWarning: You are saving your model as an HDF5 file via `model.save()`. This file format is considered legacy. We recommend using instead the native Keras format, e.g. `model.save('my_model.keras')`.\n",
            "  save_model(autoencoder, save_path)\n"
          ]
        }
      ]
    },
    {
      "cell_type": "code",
      "source": [
        "import numpy as np\n",
        "from keras.models import load_model\n",
        "\n",
        "# Load the models\n",
        "cvae = load_model('/content/drive/MyDrive/SDA Codes/CVAE_final/final_model/FINAL_CVAE_MODEL.h5')\n",
        "\n",
        "PGA = float(input('Enter $PGA$: '))\n",
        "PGD = float(input('Enter $PGD$: '))\n",
        "Fp = float(input('Enter $Fp$: '))\n",
        "Tsig = float(input('Enter $Tsig$: '))\n",
        "Ia = float(input('Enter $Ia$: '))\n",
        "CAV = float(input('Enter $CAV$: '))\n",
        "vs30 = float(input('Enter $S_c$ (1/2/3) -> (A/B/C): '))\n",
        "dir = float(input('Enter $dir$ (0/1) -> (h/v): '))\n",
        "# Manually define an input array (example)\n",
        "manual_input = np.array([[PGA,PGD,Fp,Tsig,Ia,CAV,vs30,dir]])\n",
        "\n",
        "\n",
        "# Reshape the manual input array if needed (depending on the model's input shape)\n",
        "manual_input_reshaped = manual_input.reshape(1, -1)\n",
        "manual_input_reshaped = scaler.transform(manual_input_reshaped)\n",
        "\n",
        "# Encode the manual input using the encoder (conditional_model.h5)\n",
        "decoded_output = cvae.predict(manual_input_reshaped)\n",
        "plt.figure(figsize=(12, 6))\n",
        "plt.plot(np.exp(decoded_output[0]))\n",
        "plt.xlabel('Time Step')\n",
        "plt.ylabel('Value')\n",
        "plt.title('Original vs Decoded y_train')\n",
        "plt.legend()\n",
        "plt.grid(True)\n",
        "plt.show()"
      ],
      "metadata": {
        "id": "ZqxcaRKbf9zD"
      },
      "execution_count": null,
      "outputs": []
    }
  ]
}